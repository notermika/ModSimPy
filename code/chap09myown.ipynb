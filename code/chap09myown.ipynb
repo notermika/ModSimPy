{
 "cells": [
  {
   "cell_type": "markdown",
   "metadata": {},
   "source": [
    "# Modeling and Simulation in Python\n",
    "\n",
    "Chapter 9: Projectiles\n",
    "\n",
    "Copyright 2017 Allen Downey\n",
    "\n",
    "License: [Creative Commons Attribution 4.0 International](https://creativecommons.org/licenses/by/4.0)\n"
   ]
  },
  {
   "cell_type": "code",
   "execution_count": 1,
   "metadata": {
    "collapsed": true
   },
   "outputs": [],
   "source": [
    "# If you want the figures to appear in the notebook, \n",
    "# and you want to interact with them, use\n",
    "# %matplotlib notebook\n",
    "\n",
    "# If you want the figures to appear in the notebook, \n",
    "# and you don't want to interact with them, use\n",
    "# %matplotlib inline\n",
    "\n",
    "# If you want the figures to appear in separate windows, use\n",
    "# %matplotlib qt5\n",
    "\n",
    "# tempo switch from one to another, you have to select Kernel->Restart\n",
    "\n",
    "%matplotlib inline\n",
    "\n",
    "from modsim import *"
   ]
  },
  {
   "cell_type": "markdown",
   "metadata": {
    "collapsed": true
   },
   "source": [
    "### Dropping pennies\n",
    "\n",
    "I'll start by getting the units we'll need from Pint."
   ]
  },
  {
   "cell_type": "code",
   "execution_count": 2,
   "metadata": {
    "collapsed": true
   },
   "outputs": [],
   "source": [
    "m = UNITS.meter\n",
    "s = UNITS.second\n",
    "kg = UNITS.kilogram"
   ]
  },
  {
   "cell_type": "markdown",
   "metadata": {
    "collapsed": true
   },
   "source": [
    "And defining the initial state."
   ]
  },
  {
   "cell_type": "code",
   "execution_count": 3,
   "metadata": {
    "scrolled": true
   },
   "outputs": [
    {
     "data": {
      "text/html": [
       "<div>\n",
       "<style>\n",
       "    .dataframe thead tr:only-child th {\n",
       "        text-align: right;\n",
       "    }\n",
       "\n",
       "    .dataframe thead th {\n",
       "        text-align: left;\n",
       "    }\n",
       "\n",
       "    .dataframe tbody tr th {\n",
       "        vertical-align: top;\n",
       "    }\n",
       "</style>\n",
       "<table border=\"1\" class=\"dataframe\">\n",
       "  <thead>\n",
       "    <tr style=\"text-align: right;\">\n",
       "      <th></th>\n",
       "      <th>value</th>\n",
       "    </tr>\n",
       "  </thead>\n",
       "  <tbody>\n",
       "    <tr>\n",
       "      <th>y</th>\n",
       "      <td>381 meter</td>\n",
       "    </tr>\n",
       "    <tr>\n",
       "      <th>v</th>\n",
       "      <td>0.0 meter / second</td>\n",
       "    </tr>\n",
       "  </tbody>\n",
       "</table>\n",
       "</div>"
      ],
      "text/plain": [
       "y             381 meter\n",
       "v    0.0 meter / second\n",
       "dtype: object"
      ]
     },
     "execution_count": 3,
     "metadata": {},
     "output_type": "execute_result"
    }
   ],
   "source": [
    "init = State(y=381 * m, \n",
    "             v=0 * m/s)\n",
    "init"
   ]
  },
  {
   "cell_type": "markdown",
   "metadata": {
    "collapsed": true
   },
   "source": [
    "Acceleration due to gravity is about 9.8 m / s$^2$."
   ]
  },
  {
   "cell_type": "code",
   "execution_count": 4,
   "metadata": {
    "collapsed": true
   },
   "outputs": [],
   "source": [
    "g = 9.8 * m/s**2"
   ]
  },
  {
   "cell_type": "markdown",
   "metadata": {
    "collapsed": true
   },
   "source": [
    "When we call `odeint`, we need an array of timestamps where we want to compute the solution.\n",
    "\n",
    "I'll start with a duration of 10 seconds."
   ]
  },
  {
   "cell_type": "code",
   "execution_count": 5,
   "metadata": {},
   "outputs": [
    {
     "data": {
      "text/html": [
       "[  0.   1.   2.   3.   4.   5.   6.   7.   8.   9.  10.] second"
      ],
      "text/latex": [
       "$[  0.   1.   2.   3.   4.   5.   6.   7.   8.   9.  10.] second$"
      ],
      "text/plain": [
       "<Quantity([  0.   1.   2.   3.   4.   5.   6.   7.   8.   9.  10.], 'second')>"
      ]
     },
     "execution_count": 5,
     "metadata": {},
     "output_type": "execute_result"
    }
   ],
   "source": [
    "duration = 10 * s\n",
    "ts = linspace(0, duration, 11)\n",
    "ts"
   ]
  },
  {
   "cell_type": "markdown",
   "metadata": {
    "collapsed": true
   },
   "source": [
    "Now we make a `System` object."
   ]
  },
  {
   "cell_type": "code",
   "execution_count": 6,
   "metadata": {
    "collapsed": true
   },
   "outputs": [],
   "source": [
    "system = System(init=init, g=g, ts=ts)"
   ]
  },
  {
   "cell_type": "markdown",
   "metadata": {
    "collapsed": true
   },
   "source": [
    "And define the slope function."
   ]
  },
  {
   "cell_type": "code",
   "execution_count": 15,
   "metadata": {
    "collapsed": true
   },
   "outputs": [],
   "source": [
    "def slope_func(state, t, system):\n",
    "    \"\"\"Compute derivatives of the state.\n",
    "    \n",
    "    state: position, velocity\n",
    "    t: time\n",
    "    system: System object containing `g`\n",
    "    \n",
    "    returns: derivatives of y and v\n",
    "    \"\"\"\n",
    "    y, v = state\n",
    "    unpack(system)    \n",
    "\n",
    "    dydt = v\n",
    "    dvdt = -g\n",
    "    \n",
    "    print (t)\n",
    "    return dydt, dvdt"
   ]
  },
  {
   "cell_type": "markdown",
   "metadata": {
    "collapsed": true
   },
   "source": [
    "It's always a good idea to test the slope function with the initial conditions."
   ]
  },
  {
   "cell_type": "code",
   "execution_count": 16,
   "metadata": {},
   "outputs": [
    {
     "name": "stdout",
     "output_type": "stream",
     "text": [
      "0\n",
      "0.0 meter / second\n",
      "-9.8 meter / second ** 2\n"
     ]
    }
   ],
   "source": [
    "dydt, dvdt = slope_func(init, 0, system)\n",
    "print(dydt)\n",
    "print(dvdt)"
   ]
  },
  {
   "cell_type": "markdown",
   "metadata": {
    "collapsed": true
   },
   "source": [
    "Now we're ready to run `odeint`"
   ]
  },
  {
   "cell_type": "code",
   "execution_count": 17,
   "metadata": {},
   "outputs": [
    {
     "name": "stdout",
     "output_type": "stream",
     "text": [
      "0.0 second\n",
      "0.0\n",
      "1.2391823754412774e-05\n",
      "1.2391823754412774e-05\n",
      "2.478364750882555e-05\n",
      "2.478364750882555e-05\n",
      "0.12394302119163657\n",
      "0.2478612587357643\n",
      "0.37177949627989204\n",
      "1.6109618717211696\n",
      "2.850144247162447\n",
      "4.089326622603725\n",
      "16.481150377016498\n"
     ]
    }
   ],
   "source": [
    "run_odeint(system, slope_func)"
   ]
  },
  {
   "cell_type": "markdown",
   "metadata": {
    "collapsed": true
   },
   "source": [
    "Here's what the results look like."
   ]
  },
  {
   "cell_type": "code",
   "execution_count": 18,
   "metadata": {},
   "outputs": [
    {
     "data": {
      "text/html": [
       "<div>\n",
       "<style>\n",
       "    .dataframe thead tr:only-child th {\n",
       "        text-align: right;\n",
       "    }\n",
       "\n",
       "    .dataframe thead th {\n",
       "        text-align: left;\n",
       "    }\n",
       "\n",
       "    .dataframe tbody tr th {\n",
       "        vertical-align: top;\n",
       "    }\n",
       "</style>\n",
       "<table border=\"1\" class=\"dataframe\">\n",
       "  <thead>\n",
       "    <tr style=\"text-align: right;\">\n",
       "      <th></th>\n",
       "      <th>y</th>\n",
       "      <th>v</th>\n",
       "    </tr>\n",
       "  </thead>\n",
       "  <tbody>\n",
       "    <tr>\n",
       "      <th>0.0</th>\n",
       "      <td>381.0</td>\n",
       "      <td>0.0</td>\n",
       "    </tr>\n",
       "    <tr>\n",
       "      <th>1.0</th>\n",
       "      <td>376.1</td>\n",
       "      <td>-9.8</td>\n",
       "    </tr>\n",
       "    <tr>\n",
       "      <th>2.0</th>\n",
       "      <td>361.4</td>\n",
       "      <td>-19.6</td>\n",
       "    </tr>\n",
       "    <tr>\n",
       "      <th>3.0</th>\n",
       "      <td>336.9</td>\n",
       "      <td>-29.4</td>\n",
       "    </tr>\n",
       "    <tr>\n",
       "      <th>4.0</th>\n",
       "      <td>302.6</td>\n",
       "      <td>-39.2</td>\n",
       "    </tr>\n",
       "  </tbody>\n",
       "</table>\n",
       "</div>"
      ],
      "text/plain": [
       "         y     v\n",
       "0.0  381.0   0.0\n",
       "1.0  376.1  -9.8\n",
       "2.0  361.4 -19.6\n",
       "3.0  336.9 -29.4\n",
       "4.0  302.6 -39.2"
      ]
     },
     "execution_count": 18,
     "metadata": {},
     "output_type": "execute_result"
    }
   ],
   "source": [
    "system.results.head()"
   ]
  },
  {
   "cell_type": "code",
   "execution_count": 19,
   "metadata": {},
   "outputs": [
    {
     "data": {
      "text/html": [
       "<div>\n",
       "<style>\n",
       "    .dataframe thead tr:only-child th {\n",
       "        text-align: right;\n",
       "    }\n",
       "\n",
       "    .dataframe thead th {\n",
       "        text-align: left;\n",
       "    }\n",
       "\n",
       "    .dataframe tbody tr th {\n",
       "        vertical-align: top;\n",
       "    }\n",
       "</style>\n",
       "<table border=\"1\" class=\"dataframe\">\n",
       "  <thead>\n",
       "    <tr style=\"text-align: right;\">\n",
       "      <th></th>\n",
       "      <th>y</th>\n",
       "      <th>v</th>\n",
       "    </tr>\n",
       "  </thead>\n",
       "  <tbody>\n",
       "    <tr>\n",
       "      <th>6.0</th>\n",
       "      <td>204.6</td>\n",
       "      <td>-58.8</td>\n",
       "    </tr>\n",
       "    <tr>\n",
       "      <th>7.0</th>\n",
       "      <td>140.9</td>\n",
       "      <td>-68.6</td>\n",
       "    </tr>\n",
       "    <tr>\n",
       "      <th>8.0</th>\n",
       "      <td>67.4</td>\n",
       "      <td>-78.4</td>\n",
       "    </tr>\n",
       "    <tr>\n",
       "      <th>9.0</th>\n",
       "      <td>-15.9</td>\n",
       "      <td>-88.2</td>\n",
       "    </tr>\n",
       "    <tr>\n",
       "      <th>10.0</th>\n",
       "      <td>-109.0</td>\n",
       "      <td>-98.0</td>\n",
       "    </tr>\n",
       "  </tbody>\n",
       "</table>\n",
       "</div>"
      ],
      "text/plain": [
       "          y     v\n",
       "6.0   204.6 -58.8\n",
       "7.0   140.9 -68.6\n",
       "8.0    67.4 -78.4\n",
       "9.0   -15.9 -88.2\n",
       "10.0 -109.0 -98.0"
      ]
     },
     "execution_count": 19,
     "metadata": {},
     "output_type": "execute_result"
    }
   ],
   "source": [
    "system.results.tail()"
   ]
  },
  {
   "cell_type": "markdown",
   "metadata": {
    "collapsed": true
   },
   "source": [
    "The following function plots the results."
   ]
  },
  {
   "cell_type": "code",
   "execution_count": 20,
   "metadata": {
    "collapsed": true
   },
   "outputs": [],
   "source": [
    "def plot_position(results):\n",
    "    \"\"\"Plot the results.\n",
    "    \n",
    "    results: DataFrame with position, `y`\n",
    "    \"\"\"\n",
    "    newfig()\n",
    "    plot(results.y, label='y')\n",
    "        \n",
    "    decorate(xlabel='Time (s)',\n",
    "             ylabel='Position (m)')"
   ]
  },
  {
   "cell_type": "markdown",
   "metadata": {
    "collapsed": true
   },
   "source": [
    "Here's what it looks like."
   ]
  },
  {
   "cell_type": "code",
   "execution_count": 21,
   "metadata": {},
   "outputs": [
    {
     "name": "stdout",
     "output_type": "stream",
     "text": [
      "Saving figure to file chap09-fig01.pdf\n"
     ]
    },
    {
     "data": {
      "image/png": "[encoded data removed]",
      "text/plain": [
       "<matplotlib.figure.Figure at 0x204c3adbef0>"
      ]
     },
     "metadata": {},
     "output_type": "display_data"
    }
   ],
   "source": [
    "plot_position(system.results)\n",
    "savefig('chap09-fig01.pdf')"
   ]
  },
  {
   "cell_type": "markdown",
   "metadata": {
    "collapsed": true
   },
   "source": [
    "**Exercise:** Add a print statement to `slope_func` to print the value of `t` each time it's called.  What can we infer about how `odeint` works, based on the results?"
   ]
  },
  {
   "cell_type": "code",
   "execution_count": 22,
   "metadata": {
    "collapsed": true
   },
   "outputs": [],
   "source": [
    "#odeint seems to be exponential, which, if I remember right, is partially due to the fact that it uses Euler's method to \n",
    "#approximate integrals"
   ]
  },
  {
   "cell_type": "markdown",
   "metadata": {
    "collapsed": true
   },
   "source": [
    "**Exercise:** Change the value of `dt` and run the solver again.  What effect does it have on the results?"
   ]
  },
  {
   "cell_type": "code",
   "execution_count": null,
   "metadata": {
    "collapsed": true
   },
   "outputs": [],
   "source": [
    "#smaller values of dt make the plot \"more accurate\" to the function plotted"
   ]
  },
  {
   "cell_type": "markdown",
   "metadata": {},
   "source": [
    "### Onto the sidewalk\n",
    "\n",
    "Here's the code again to set up the `System` object."
   ]
  },
  {
   "cell_type": "code",
   "execution_count": 23,
   "metadata": {
    "collapsed": true
   },
   "outputs": [],
   "source": [
    "def make_system(duration, v_init=0):\n",
    "    \"\"\"Make a system object.\n",
    "    \n",
    "    duration: time of simulation in seconds\n",
    "    v_init: initial velocity, dimensionless\n",
    "    \n",
    "    returns: System object\n",
    "    \"\"\"\n",
    "    init = State(y=381 * m, v=v_init * m / s)\n",
    "\n",
    "    g = 9.8 * m/s**2\n",
    "    ts = linspace(0, duration, 11)\n",
    "    return System(init=init, g=g, ts=ts)"
   ]
  },
  {
   "cell_type": "markdown",
   "metadata": {},
   "source": [
    "And run the simulation."
   ]
  },
  {
   "cell_type": "code",
   "execution_count": 24,
   "metadata": {
    "scrolled": true
   },
   "outputs": [
    {
     "name": "stdout",
     "output_type": "stream",
     "text": [
      "0.0\n",
      "0.0\n",
      "1.2391823754412774e-05\n",
      "1.2391823754412774e-05\n",
      "2.478364750882555e-05\n",
      "2.478364750882555e-05\n",
      "0.12394302119163657\n",
      "0.2478612587357643\n",
      "0.37177949627989204\n",
      "1.6109618717211696\n",
      "2.850144247162447\n",
      "4.089326622603725\n",
      "16.481150377016498\n"
     ]
    },
    {
     "data": {
      "text/html": [
       "<div>\n",
       "<style>\n",
       "    .dataframe thead tr:only-child th {\n",
       "        text-align: right;\n",
       "    }\n",
       "\n",
       "    .dataframe thead th {\n",
       "        text-align: left;\n",
       "    }\n",
       "\n",
       "    .dataframe tbody tr th {\n",
       "        vertical-align: top;\n",
       "    }\n",
       "</style>\n",
       "<table border=\"1\" class=\"dataframe\">\n",
       "  <thead>\n",
       "    <tr style=\"text-align: right;\">\n",
       "      <th></th>\n",
       "      <th>y</th>\n",
       "      <th>v</th>\n",
       "    </tr>\n",
       "  </thead>\n",
       "  <tbody>\n",
       "    <tr>\n",
       "      <th>0.0</th>\n",
       "      <td>381.0</td>\n",
       "      <td>0.0</td>\n",
       "    </tr>\n",
       "    <tr>\n",
       "      <th>1.0</th>\n",
       "      <td>376.1</td>\n",
       "      <td>-9.8</td>\n",
       "    </tr>\n",
       "    <tr>\n",
       "      <th>2.0</th>\n",
       "      <td>361.4</td>\n",
       "      <td>-19.6</td>\n",
       "    </tr>\n",
       "    <tr>\n",
       "      <th>3.0</th>\n",
       "      <td>336.9</td>\n",
       "      <td>-29.4</td>\n",
       "    </tr>\n",
       "    <tr>\n",
       "      <th>4.0</th>\n",
       "      <td>302.6</td>\n",
       "      <td>-39.2</td>\n",
       "    </tr>\n",
       "    <tr>\n",
       "      <th>5.0</th>\n",
       "      <td>258.5</td>\n",
       "      <td>-49.0</td>\n",
       "    </tr>\n",
       "    <tr>\n",
       "      <th>6.0</th>\n",
       "      <td>204.6</td>\n",
       "      <td>-58.8</td>\n",
       "    </tr>\n",
       "    <tr>\n",
       "      <th>7.0</th>\n",
       "      <td>140.9</td>\n",
       "      <td>-68.6</td>\n",
       "    </tr>\n",
       "    <tr>\n",
       "      <th>8.0</th>\n",
       "      <td>67.4</td>\n",
       "      <td>-78.4</td>\n",
       "    </tr>\n",
       "    <tr>\n",
       "      <th>9.0</th>\n",
       "      <td>-15.9</td>\n",
       "      <td>-88.2</td>\n",
       "    </tr>\n",
       "    <tr>\n",
       "      <th>10.0</th>\n",
       "      <td>-109.0</td>\n",
       "      <td>-98.0</td>\n",
       "    </tr>\n",
       "  </tbody>\n",
       "</table>\n",
       "</div>"
      ],
      "text/plain": [
       "          y     v\n",
       "0.0   381.0   0.0\n",
       "1.0   376.1  -9.8\n",
       "2.0   361.4 -19.6\n",
       "3.0   336.9 -29.4\n",
       "4.0   302.6 -39.2\n",
       "5.0   258.5 -49.0\n",
       "6.0   204.6 -58.8\n",
       "7.0   140.9 -68.6\n",
       "8.0    67.4 -78.4\n",
       "9.0   -15.9 -88.2\n",
       "10.0 -109.0 -98.0"
      ]
     },
     "execution_count": 24,
     "metadata": {},
     "output_type": "execute_result"
    }
   ],
   "source": [
    "system = make_system(10)\n",
    "run_odeint(system, slope_func)\n",
    "system.results"
   ]
  },
  {
   "cell_type": "markdown",
   "metadata": {
    "collapsed": true
   },
   "source": [
    "To figure out when the penny hit the sidewalk, we use `interp_inverse`, which return a function that maps from height to time."
   ]
  },
  {
   "cell_type": "code",
   "execution_count": 25,
   "metadata": {
    "collapsed": true
   },
   "outputs": [],
   "source": [
    "y = system.results.y\n",
    "T = interp_inverse(y, kind='cubic')"
   ]
  },
  {
   "cell_type": "markdown",
   "metadata": {
    "collapsed": true
   },
   "source": [
    "`T(0)` interpolates the time when the height was 0."
   ]
  },
  {
   "cell_type": "code",
   "execution_count": 26,
   "metadata": {},
   "outputs": [
    {
     "data": {
      "text/plain": [
       "array(8.81792826905006)"
      ]
     },
     "execution_count": 26,
     "metadata": {},
     "output_type": "execute_result"
    }
   ],
   "source": [
    "T_sidewalk = T(0)\n",
    "T_sidewalk"
   ]
  },
  {
   "cell_type": "markdown",
   "metadata": {
    "collapsed": true
   },
   "source": [
    "We can compare that to the exact result.  Without air resistance, we have\n",
    "\n",
    "$v = -g t$\n",
    "\n",
    "and\n",
    "\n",
    "$y = 381 - g t^2 / 2$\n",
    "\n",
    "Setting $y=0$ and solving for $t$ yields\n",
    "\n",
    "$t = \\sqrt{\\frac{2 y_{init}}{g}}$"
   ]
  },
  {
   "cell_type": "code",
   "execution_count": 27,
   "metadata": {},
   "outputs": [
    {
     "data": {
      "text/html": [
       "8.817885349720552 second"
      ],
      "text/latex": [
       "$8.817885349720552 second$"
      ],
      "text/plain": [
       "<Quantity(8.817885349720552, 'second')>"
      ]
     },
     "execution_count": 27,
     "metadata": {},
     "output_type": "execute_result"
    }
   ],
   "source": [
    "sqrt(2 * init.y / g)"
   ]
  },
  {
   "cell_type": "markdown",
   "metadata": {
    "collapsed": true
   },
   "source": [
    "The estimate is accurate to 4 decimal places."
   ]
  },
  {
   "cell_type": "markdown",
   "metadata": {
    "collapsed": true
   },
   "source": [
    "We can double-check by running the simulation for the estimated flight time."
   ]
  },
  {
   "cell_type": "code",
   "execution_count": 28,
   "metadata": {},
   "outputs": [
    {
     "name": "stdout",
     "output_type": "stream",
     "text": [
      "0.0\n",
      "0.0\n",
      "1.2373598314419205e-05\n",
      "1.2373598314419205e-05\n",
      "2.474719662883841e-05\n",
      "2.474719662883841e-05\n",
      "0.1237607303408209\n",
      "0.24749671348501295\n",
      "0.371232696629205\n",
      "1.6085925280711255\n",
      "2.845952359513046\n",
      "4.083312190954967\n",
      "16.45691050537417\n"
     ]
    }
   ],
   "source": [
    "system = make_system(duration=T_sidewalk)\n",
    "run_odeint(system, slope_func)"
   ]
  },
  {
   "cell_type": "markdown",
   "metadata": {
    "collapsed": true
   },
   "source": [
    "And checking the final state."
   ]
  },
  {
   "cell_type": "code",
   "execution_count": 29,
   "metadata": {
    "collapsed": true
   },
   "outputs": [],
   "source": [
    "def final_state(results):\n",
    "    \"\"\"Returns the final position and velocity, with units.\n",
    "    \n",
    "    results: TimeFrame with y and v.\n",
    "    \n",
    "    returns: y, v at t_end\n",
    "    \"\"\"\n",
    "    t_end = results.index[-1]\n",
    "    y, v = results.loc[t_end]\n",
    "    return y*m, v*m/s"
   ]
  },
  {
   "cell_type": "markdown",
   "metadata": {
    "collapsed": true
   },
   "source": [
    "As expected, the final height is close to 0."
   ]
  },
  {
   "cell_type": "code",
   "execution_count": 30,
   "metadata": {},
   "outputs": [
    {
     "data": {
      "text/html": [
       "-0.003708896250259386 meter"
      ],
      "text/latex": [
       "$-0.003708896250259386 meter$"
      ],
      "text/plain": [
       "<Quantity(-0.003708896250259386, 'meter')>"
      ]
     },
     "execution_count": 30,
     "metadata": {},
     "output_type": "execute_result"
    }
   ],
   "source": [
    "y_final, v_final = final_state(system.results)\n",
    "y_final"
   ]
  },
  {
   "cell_type": "markdown",
   "metadata": {
    "collapsed": true
   },
   "source": [
    "And we can check the final velocity."
   ]
  },
  {
   "cell_type": "code",
   "execution_count": 31,
   "metadata": {},
   "outputs": [
    {
     "data": {
      "text/html": [
       "-86.41569703669059 meter/second"
      ],
      "text/latex": [
       "$-86.41569703669059 \\frac{meter}{second}$"
      ],
      "text/plain": [
       "<Quantity(-86.41569703669059, 'meter / second')>"
      ]
     },
     "execution_count": 31,
     "metadata": {},
     "output_type": "execute_result"
    }
   ],
   "source": [
    "v_final"
   ]
  },
  {
   "cell_type": "markdown",
   "metadata": {
    "collapsed": true
   },
   "source": [
    "And convert to km/h"
   ]
  },
  {
   "cell_type": "code",
   "execution_count": 32,
   "metadata": {},
   "outputs": [
    {
     "data": {
      "text/html": [
       "-311.0965093320861 kilometer/hour"
      ],
      "text/latex": [
       "$-311.0965093320861 \\frac{kilometer}{hour}$"
      ],
      "text/plain": [
       "<Quantity(-311.0965093320861, 'kilometer / hour')>"
      ]
     },
     "execution_count": 32,
     "metadata": {},
     "output_type": "execute_result"
    }
   ],
   "source": [
    "km = UNITS.kilometer\n",
    "h = UNITS.hour\n",
    "v_final.to(km / h)"
   ]
  },
  {
   "cell_type": "markdown",
   "metadata": {
    "collapsed": true
   },
   "source": [
    "If there were no air resistance, the penny would hit the sidewalk (or someone's head) at more than 300 km/h.\n",
    "\n",
    "So it's a good thing there is air resistance."
   ]
  },
  {
   "cell_type": "markdown",
   "metadata": {},
   "source": [
    "**Exercise:** Try changing the initial velocity and see what effect it has on the time to hot the sidewalk.  Sweep a range of values for the initial velocity, from 0 to 25 m/s, and plot `T_sidewalk` as a function of initial velocity.  You might find the following function useful.\n",
    "\n",
    "Things might go horribly wrong for the larger initial velocities.  What's going on?"
   ]
  },
  {
   "cell_type": "code",
   "execution_count": null,
   "metadata": {
    "collapsed": true
   },
   "outputs": [],
   "source": [
    "#*hit"
   ]
  },
  {
   "cell_type": "code",
   "execution_count": 33,
   "metadata": {
    "collapsed": true
   },
   "outputs": [],
   "source": [
    "def flight_time(system):\n",
    "    \"\"\"Simulates the system and computes flight time.\n",
    "    \n",
    "    Uses cubic interpolation.\n",
    "    \n",
    "    system: System object\n",
    "    \n",
    "    returns: flight time in seconds\n",
    "    \"\"\"\n",
    "    run_odeint(system, slope_func)\n",
    "    y = system.results.y\n",
    "    inverse = Series(y.index, index=y.values)\n",
    "    T = interpolate(inverse, kind='cubic')\n",
    "    T_sidewalk = T(0)\n",
    "    return T_sidewalk * s"
   ]
  },
  {
   "cell_type": "code",
   "execution_count": 46,
   "metadata": {},
   "outputs": [
    {
     "name": "stdout",
     "output_type": "stream",
     "text": [
      "0.0\n",
      "0.0\n",
      "1.2391823754412774e-05\n",
      "1.2391823754412774e-05\n",
      "2.478364750882555e-05\n",
      "2.478364750882555e-05\n",
      "0.12394302119163657\n",
      "0.2478612587357643\n",
      "0.37177949627989204\n",
      "1.6109618717211696\n",
      "2.850144247162447\n",
      "4.089326622603725\n",
      "16.481150377016498\n",
      "0.0\n",
      "0.0\n",
      "2.4409212935478853e-05\n",
      "2.4409212935478853e-05\n",
      "4.8818425870957706e-05\n",
      "4.8818425870957706e-05\n",
      "0.24414094778065948\n",
      "0.488233077135448\n",
      "0.7323252064902366\n",
      "3.173246500038122\n",
      "5.614167793586007\n",
      "8.055089087133892\n",
      "32.46430202261274\n",
      "0.0\n",
      "0.0\n",
      "3.573176919464151e-05\n",
      "3.573176919464151e-05\n",
      "7.146353838928302e-05\n",
      "7.146353838928302e-05\n",
      "0.3573891554848043\n",
      "0.7147068474312194\n",
      "1.0720245393776344\n",
      "4.645201458841784\n",
      "8.218378378305935\n",
      "11.791555297770085\n",
      "0.0\n",
      "0.0\n",
      "4.613006463536682e-05\n",
      "4.613006463536682e-05\n",
      "9.226012927073364e-05\n",
      "9.226012927073364e-05\n",
      "0.46139290648293896\n",
      "0.9226935528366071\n",
      "1.3839941991902753\n",
      "5.997000662726958\n",
      "10.610007126263639\n",
      "0.0\n",
      "0.0\n",
      "5.547740886983432e-05\n",
      "5.547740886983432e-05\n",
      "0.00011095481773966864\n",
      "0.00011095481773966864\n",
      "0.5548850435160829\n",
      "1.1096591322144262\n",
      "1.6644332209127695\n",
      "7.212174107896201\n",
      "12.759914994879633\n",
      "0.0\n",
      "0.0\n",
      "6.373956781545842e-05\n",
      "6.373956781545842e-05\n",
      "0.00012747913563091685\n",
      "0.00012747913563091685\n",
      "0.6375231572902151\n",
      "1.2749188354447993\n",
      "1.9123145135993835\n",
      "8.286271295145225\n",
      "14.660228076691066\n",
      "0.0\n",
      "0.0\n",
      "7.095202033197637e-05\n",
      "7.095202033197637e-05\n",
      "0.00014190404066395274\n",
      "0.00014190404066395274\n",
      "0.7096621073604277\n",
      "1.4191823106801915\n",
      "2.128702513999955\n",
      "9.223904547197591\n",
      "16.31910658039523\n",
      "0.0\n",
      "0.0\n",
      "7.719449625742039e-05\n",
      "7.719449625742039e-05\n",
      "0.00015438899251484078\n",
      "0.00015438899251484078\n",
      "0.7720993515667187\n",
      "1.5440443141409226\n",
      "2.3159892767151264\n",
      "10.035438902457166\n",
      "0.0\n",
      "0.0\n",
      "8.256907718939225e-05\n",
      "8.256907718939225e-05\n",
      "0.0001651381543787845\n",
      "0.0001651381543787845\n",
      "0.8258559100483013\n",
      "1.6515466819422238\n",
      "2.477237453836146\n",
      "10.73414517277537\n",
      "0.0\n",
      "0.0\n",
      "8.718429798969494e-05\n",
      "8.718429798969494e-05\n",
      "0.00017436859597938988\n",
      "0.00017436859597938988\n",
      "0.8720173484929289\n",
      "1.7438603283898784\n",
      "2.615703308286828\n",
      "11.334133107256324\n",
      "0.0\n",
      "0.0\n",
      "9.114511907553673e-05\n",
      "9.114511907553673e-05\n",
      "0.00018229023815107345\n",
      "0.00018229023815107345\n",
      "0.9116334809935184\n",
      "1.8230846717488856\n",
      "2.734535862504253\n",
      "11.849047770057926\n",
      "0.0\n",
      "0.0\n",
      "9.454750196759271e-05\n",
      "9.454750196759271e-05\n",
      "0.00018909500393518542\n",
      "0.00018909500393518542\n",
      "0.9456641146798622\n",
      "1.8911391343557893\n",
      "2.8366141540317162\n",
      "12.291364350790987\n",
      "0.0\n",
      "0.0\n",
      "9.747612646647661e-05\n",
      "9.747612646647661e-05\n",
      "0.00019495225293295323\n",
      "0.00019495225293295323\n",
      "0.9749562169176991\n",
      "0.9749562169176991\n",
      "1.9497174815824652\n",
      "2.9244787462472313\n",
      "12.672091392894892\n",
      "0.0\n",
      "0.0\n",
      "0.00010000402676456341\n",
      "0.00010000402676456341\n",
      "0.00020000805352912682\n",
      "0.00020000805352912682\n",
      "1.0002402756991633\n",
      "1.0002402756991633\n",
      "2.0002805433447977\n",
      "3.0003208109904316\n",
      "13.000723487446773\n",
      "0.0\n",
      "0.0\n",
      "0.00010219327271785773\n",
      "0.00010219327271785773\n",
      "0.00020438654543571545\n",
      "0.00020438654543571545\n",
      "1.022137113724013\n",
      "2.04406984090259\n",
      "3.066002568081167\n",
      "13.28532983986694\n",
      "0.0\n",
      "0.0\n",
      "0.00010409613345092066\n",
      "0.00010409613345092066\n",
      "0.00020819226690184131\n",
      "0.00020819226690184131\n",
      "1.0411695267761085\n",
      "1.0411695267761085\n",
      "2.0821308612853153\n",
      "3.1230921957945217\n",
      "13.532705540886587\n",
      "0.0\n",
      "0.0\n",
      "0.00010575639028847439\n",
      "0.00010575639028847439\n",
      "0.00021151278057694877\n",
      "0.00021151278057694877\n",
      "1.0577754156653207\n",
      "1.0577754156653207\n",
      "2.1153393185500646\n",
      "3.1729032214348085\n",
      "13.748542250282247\n",
      "0.0\n",
      "0.0\n",
      "0.00010721061864752782\n",
      "0.00010721061864752782\n",
      "0.00021442123729505563\n",
      "0.00021442123729505563\n",
      "1.072320607712573\n",
      "2.144426794187851\n",
      "3.2165329806631293\n",
      "13.937594845415909\n",
      "0.0\n",
      "0.0\n",
      "0.00010848935252554772\n",
      "0.00010848935252554772\n",
      "0.00021697870505109544\n",
      "0.00021697870505109544\n",
      "1.0851105039605282\n",
      "2.170004029216005\n",
      "3.2548975544714827\n",
      "14.103832807026254\n",
      "0.0\n",
      "0.0\n",
      "0.00010961809947100227\n",
      "0.00010961809947100227\n",
      "0.00021923619894200454\n",
      "0.00021923619894200454\n",
      "1.0964002309089647\n",
      "1.0964002309089647\n",
      "2.192581225618987\n",
      "3.28876222032901\n",
      "14.250572167429238\n",
      "0.0\n",
      "0.0\n",
      "0.00011061820311916963\n",
      "0.00011061820311916963\n",
      "0.00022123640623833925\n",
      "0.00022123640623833925\n",
      "1.1064032675979347\n",
      "1.1064032675979347\n",
      "2.212585298789631\n",
      "3.3187673299813274\n",
      "14.380587641898291\n",
      "0.0\n",
      "0.0\n",
      "0.00011150756463067493\n",
      "0.00011150756463067493\n",
      "0.00022301512926134985\n",
      "0.00022301512926134985\n",
      "1.1152986614360105\n",
      "1.1152986614360105\n",
      "2.2303743077427596\n",
      "3.345449954049509\n",
      "14.496206417117001\n",
      "0.0\n",
      "0.0\n",
      "0.00011230124015171632\n",
      "0.00011230124015171632\n",
      "0.00022460248030343265\n",
      "0.00022460248030343265\n",
      "1.1232370039974666\n",
      "1.1232370039974666\n",
      "2.2462494055146296\n",
      "3.369261807031793\n",
      "14.599385822203425\n",
      "0.0\n",
      "0.0\n",
      "0.00011301193265669876\n",
      "0.00011301193265669876\n",
      "0.00022602386531339752\n",
      "0.00022602386531339752\n",
      "1.1303453504323009\n",
      "1.1303453504323009\n",
      "2.2604646769992884\n",
      "3.3905840035662758\n",
      "14.691777269236152\n",
      "0.0\n",
      "0.0\n",
      "0.00011365039553078947\n",
      "0.00011365039553078947\n",
      "0.00022730079106157895\n",
      "0.00022730079106157895\n",
      "1.1367312560989564\n",
      "1.1367312560989564\n",
      "2.2732352114068513\n",
      "3.409739166714746\n",
      "14.774778719793694\n",
      "0.0\n",
      "0.0\n",
      "0.00011422576328790598\n",
      "0.00011422576328790598\n",
      "0.00022845152657581196\n",
      "0.00022845152657581196\n",
      "1.1424860844056357\n",
      "2.2847437172846954\n",
      "3.4270013501637555\n",
      "14.849577678954354\n"
     ]
    },
    {
     "data": {
      "image/png": "[encoded data removed]",
      "text/plain": [
       "<matplotlib.figure.Figure at 0x204c3bf93c8>"
      ]
     },
     "metadata": {},
     "output_type": "display_data"
    }
   ],
   "source": [
    "duration = 10\n",
    "vsweep = linrange(0, 25, 1)\n",
    "\n",
    "for v_init in vsweep:\n",
    "    system = make_system(duration, v_init)\n",
    "    run_odeint(system, slope_func)\n",
    "    y = system.results.y\n",
    "    inverse = Series(y.index, index=y.values)\n",
    "    T = interpolate(inverse, kind='cubic')\n",
    "    T_sidewalk = T(0)\n",
    "    plot(v_init, T_sidewalk, 'b-')"
   ]
  },
  {
   "cell_type": "code",
   "execution_count": 47,
   "metadata": {
    "collapsed": true
   },
   "outputs": [],
   "source": [
    "#I'm not exactly sure why things are showing up the way that they are, but there can't be contact in negative time,\n",
    "#as would happen if the penny starts off moving too fast"
   ]
  },
  {
   "cell_type": "markdown",
   "metadata": {},
   "source": [
    "### With air resistance"
   ]
  },
  {
   "cell_type": "markdown",
   "metadata": {},
   "source": [
    "Next we'll add air resistance using the [drag equation](https://en.wikipedia.org/wiki/Drag_equation)\n",
    "\n",
    "First I'll create a `Condition` object to contain the quantities we'll need."
   ]
  },
  {
   "cell_type": "code",
   "execution_count": 48,
   "metadata": {
    "collapsed": true
   },
   "outputs": [],
   "source": [
    "condition = Condition(height = 381 * m,\n",
    "                      v_init = 0 * m / s,\n",
    "                      g = 9.8 * m/s**2,\n",
    "                      mass = 2.5e-3 * kg,\n",
    "                      diameter = 19e-3 * m,\n",
    "                      rho = 1.2 * kg/m**3,\n",
    "                      v_term = 18 * m / s,\n",
    "                      duration = 30 * s)"
   ]
  },
  {
   "cell_type": "markdown",
   "metadata": {
    "collapsed": true
   },
   "source": [
    "Now here's a version of `make_system` that takes a `Condition` object as a parameter.\n",
    "\n",
    "`make_system` uses the given value of `v_term` to compute the drag coefficient `C_d`."
   ]
  },
  {
   "cell_type": "code",
   "execution_count": 49,
   "metadata": {
    "collapsed": true
   },
   "outputs": [],
   "source": [
    "def make_system(condition):\n",
    "    \"\"\"Makes a System object for the given conditions.\n",
    "    \n",
    "    condition: Condition with height, g, mass, diameter, \n",
    "               rho, v_term, and duration\n",
    "    \n",
    "    returns: System with init, g, mass, rho, C_d, area, and ts\n",
    "    \"\"\"\n",
    "    unpack(condition)\n",
    "    \n",
    "    init = State(y=height, v=v_init)\n",
    "    area = np.pi * (diameter/2)**2\n",
    "    C_d = 2 * mass * g / (rho * area * v_term**2)\n",
    "    ts = linspace(0, duration, 101)\n",
    "    \n",
    "    return System(init=init, g=g, mass=mass, rho=rho,\n",
    "                  C_d=C_d, area=area, ts=ts)"
   ]
  },
  {
   "cell_type": "markdown",
   "metadata": {
    "collapsed": true
   },
   "source": [
    "Let's make a `System`"
   ]
  },
  {
   "cell_type": "code",
   "execution_count": 50,
   "metadata": {},
   "outputs": [
    {
     "data": {
      "text/html": [
       "<div>\n",
       "<style>\n",
       "    .dataframe thead tr:only-child th {\n",
       "        text-align: right;\n",
       "    }\n",
       "\n",
       "    .dataframe thead th {\n",
       "        text-align: left;\n",
       "    }\n",
       "\n",
       "    .dataframe tbody tr th {\n",
       "        vertical-align: top;\n",
       "    }\n",
       "</style>\n",
       "<table border=\"1\" class=\"dataframe\">\n",
       "  <thead>\n",
       "    <tr style=\"text-align: right;\">\n",
       "      <th></th>\n",
       "      <th>value</th>\n",
       "    </tr>\n",
       "  </thead>\n",
       "  <tbody>\n",
       "    <tr>\n",
       "      <th>init</th>\n",
       "      <td>y             381 meter\n",
       "v    0.0 meter / secon...</td>\n",
       "    </tr>\n",
       "    <tr>\n",
       "      <th>g</th>\n",
       "      <td>9.8 meter / second ** 2</td>\n",
       "    </tr>\n",
       "    <tr>\n",
       "      <th>mass</th>\n",
       "      <td>0.0025 kilogram</td>\n",
       "    </tr>\n",
       "    <tr>\n",
       "      <th>rho</th>\n",
       "      <td>1.2 kilogram / meter ** 3</td>\n",
       "    </tr>\n",
       "    <tr>\n",
       "      <th>C_d</th>\n",
       "      <td>0.4445009981135434 dimensionless</td>\n",
       "    </tr>\n",
       "    <tr>\n",
       "      <th>area</th>\n",
       "      <td>0.0002835287369864788 meter ** 2</td>\n",
       "    </tr>\n",
       "    <tr>\n",
       "      <th>ts</th>\n",
       "      <td>[0.0 second, 0.3 second, 0.6 second, 0.8999999...</td>\n",
       "    </tr>\n",
       "  </tbody>\n",
       "</table>\n",
       "</div>"
      ],
      "text/plain": [
       "init    y             381 meter\n",
       "v    0.0 meter / secon...\n",
       "g                                 9.8 meter / second ** 2\n",
       "mass                                      0.0025 kilogram\n",
       "rho                             1.2 kilogram / meter ** 3\n",
       "C_d                      0.4445009981135434 dimensionless\n",
       "area                     0.0002835287369864788 meter ** 2\n",
       "ts      [0.0 second, 0.3 second, 0.6 second, 0.8999999...\n",
       "dtype: object"
      ]
     },
     "execution_count": 50,
     "metadata": {},
     "output_type": "execute_result"
    }
   ],
   "source": [
    "system = make_system(condition)\n",
    "system"
   ]
  },
  {
   "cell_type": "markdown",
   "metadata": {
    "collapsed": true
   },
   "source": [
    "Here's the slope function, including acceleration due to gravity and drag."
   ]
  },
  {
   "cell_type": "code",
   "execution_count": 51,
   "metadata": {
    "collapsed": true
   },
   "outputs": [],
   "source": [
    "def slope_func(state, t, system):\n",
    "    \"\"\"Compute derivatives of the state.\n",
    "    \n",
    "    state: position, velocity\n",
    "    t: time\n",
    "    system: System object containing g, rho,\n",
    "            C_d, area, and mass\n",
    "    \n",
    "    returns: derivatives of y and v\n",
    "    \"\"\"\n",
    "    y, v = state\n",
    "    unpack(system)\n",
    "    \n",
    "    f_drag = rho * v**2 * C_d * area / 2\n",
    "    a_drag = f_drag / mass\n",
    "    \n",
    "    dydt = v\n",
    "    dvdt = -g + a_drag\n",
    "    \n",
    "    return dydt, dvdt"
   ]
  },
  {
   "cell_type": "markdown",
   "metadata": {
    "collapsed": true
   },
   "source": [
    "As always, let's test the slope function with the initial conditions."
   ]
  },
  {
   "cell_type": "code",
   "execution_count": 52,
   "metadata": {},
   "outputs": [
    {
     "data": {
      "text/plain": [
       "(<Quantity(0.0, 'meter / second')>, <Quantity(-9.8, 'meter / second ** 2')>)"
      ]
     },
     "execution_count": 52,
     "metadata": {},
     "output_type": "execute_result"
    }
   ],
   "source": [
    "slope_func(system.init, 0, system)"
   ]
  },
  {
   "cell_type": "markdown",
   "metadata": {
    "collapsed": true
   },
   "source": [
    "And then run the simulation."
   ]
  },
  {
   "cell_type": "code",
   "execution_count": 53,
   "metadata": {
    "collapsed": true
   },
   "outputs": [],
   "source": [
    "run_odeint(system, slope_func)"
   ]
  },
  {
   "cell_type": "markdown",
   "metadata": {
    "collapsed": true
   },
   "source": [
    "First check that the simulation ran long enough for the penny to land."
   ]
  },
  {
   "cell_type": "code",
   "execution_count": 54,
   "metadata": {},
   "outputs": [
    {
     "data": {
      "text/plain": [
       "(<Quantity(-136.083704279796, 'meter')>,\n",
       " <Quantity(-18.00000000087864, 'meter / second')>)"
      ]
     },
     "execution_count": 54,
     "metadata": {},
     "output_type": "execute_result"
    }
   ],
   "source": [
    "final_state(system.results)"
   ]
  },
  {
   "cell_type": "markdown",
   "metadata": {
    "collapsed": true
   },
   "source": [
    "Then compute the flight time."
   ]
  },
  {
   "cell_type": "code",
   "execution_count": 55,
   "metadata": {},
   "outputs": [
    {
     "data": {
      "text/plain": [
       "array(22.439794207078908)"
      ]
     },
     "execution_count": 55,
     "metadata": {},
     "output_type": "execute_result"
    }
   ],
   "source": [
    "y = system.results.y\n",
    "inverse = Series(y.index, index=y.values)\n",
    "T = interpolate(inverse, kind='cubic')\n",
    "T_sidewalk = T(0)\n",
    "T_sidewalk"
   ]
  },
  {
   "cell_type": "markdown",
   "metadata": {
    "collapsed": true
   },
   "source": [
    "Setting the duration to the computed flight time, we can check the final conditions."
   ]
  },
  {
   "cell_type": "code",
   "execution_count": 56,
   "metadata": {
    "collapsed": true
   },
   "outputs": [],
   "source": [
    "condition.set(duration=T_sidewalk)\n",
    "system = make_system(condition)\n",
    "run_odeint(system, slope_func)\n",
    "y_final, v_final = final_state(system.results)"
   ]
  },
  {
   "cell_type": "markdown",
   "metadata": {
    "collapsed": true
   },
   "source": [
    "The final height is close to 0, as expected.  And the final velocity is close to the given terminal velocity."
   ]
  },
  {
   "cell_type": "code",
   "execution_count": 57,
   "metadata": {},
   "outputs": [
    {
     "data": {
      "text/plain": [
       "(<Quantity(1.2732392917769175e-10, 'meter')>,\n",
       " <Quantity(-18.00000000874157, 'meter / second')>)"
      ]
     },
     "execution_count": 57,
     "metadata": {},
     "output_type": "execute_result"
    }
   ],
   "source": [
    "y_final, v_final"
   ]
  },
  {
   "cell_type": "markdown",
   "metadata": {
    "collapsed": true
   },
   "source": [
    "Here's the plot of position as a function of time."
   ]
  },
  {
   "cell_type": "code",
   "execution_count": 58,
   "metadata": {},
   "outputs": [
    {
     "name": "stdout",
     "output_type": "stream",
     "text": [
      "Saving figure to file chap09-fig02.pdf\n"
     ]
    },
    {
     "data": {
      "image/png": "[encoded data removed]",
      "text/plain": [
       "<matplotlib.figure.Figure at 0x204c3fdb358>"
      ]
     },
     "metadata": {},
     "output_type": "display_data"
    }
   ],
   "source": [
    "plot_position(system.results)\n",
    "savefig('chap09-fig02.pdf')"
   ]
  },
  {
   "cell_type": "markdown",
   "metadata": {},
   "source": [
    "And velocity as a function of time:"
   ]
  },
  {
   "cell_type": "code",
   "execution_count": 59,
   "metadata": {
    "collapsed": true
   },
   "outputs": [],
   "source": [
    "def plot_velocity(results):\n",
    "    \"\"\"Plot the results.\n",
    "    \n",
    "    results: DataFrame with velocity, v\n",
    "    \"\"\"\n",
    "    newfig()\n",
    "    plot(results.v, label='v')\n",
    "        \n",
    "    decorate(xlabel='Time (s)',\n",
    "             ylabel='Velocity (m/2)')"
   ]
  },
  {
   "cell_type": "code",
   "execution_count": 60,
   "metadata": {},
   "outputs": [
    {
     "data": {
      "image/png": "[encoded data removed]",
      "text/plain": [
       "<matplotlib.figure.Figure at 0x204c4095978>"
      ]
     },
     "metadata": {},
     "output_type": "display_data"
    }
   ],
   "source": [
    "plot_velocity(system.results)"
   ]
  },
  {
   "cell_type": "markdown",
   "metadata": {
    "collapsed": true
   },
   "source": [
    "From an initial velocity of 0, the penny accelerates downward until it reaches terminal velocity; after that, velocity is constant."
   ]
  },
  {
   "cell_type": "markdown",
   "metadata": {},
   "source": [
    "**Exercise:** Run the simulation with an initial velocity, downward, that exceeds the penny's terminal velocity.  Hint: use `condition.set`.\n",
    "\n",
    "What do you expect to happen?  Plot velocity and position as a function of time, and see if they are consistent with your prediction."
   ]
  },
  {
   "cell_type": "code",
   "execution_count": 61,
   "metadata": {},
   "outputs": [
    {
     "data": {
      "image/png": "[encoded data removed]",
      "text/plain": [
       "<matplotlib.figure.Figure at 0x204c416ecf8>"
      ]
     },
     "metadata": {},
     "output_type": "display_data"
    }
   ],
   "source": [
    "condition.set(v_init = -100 * m / s)\n",
    "system = make_system(condition)\n",
    "run_odeint(system, slope_func)\n",
    "plot_position(system.results)"
   ]
  },
  {
   "cell_type": "code",
   "execution_count": 62,
   "metadata": {
    "scrolled": false
   },
   "outputs": [
    {
     "data": {
      "image/png": "[encoded data removed]",
      "text/plain": [
       "<matplotlib.figure.Figure at 0x204c413b1d0>"
      ]
     },
     "metadata": {},
     "output_type": "display_data"
    }
   ],
   "source": [
    "plot_velocity(system.results)"
   ]
  },
  {
   "cell_type": "markdown",
   "metadata": {},
   "source": [
    "### Dropping quarters"
   ]
  },
  {
   "cell_type": "markdown",
   "metadata": {},
   "source": [
    "Suppose we drop a quarter from the Empire State Building and find that its flight time is 19.1 seconds.  We can use this measurement to estimate the coefficient of drag.\n",
    "\n",
    "Here's a `Condition` object with the relevant parameters from\n",
    "https://en.wikipedia.org/wiki/Quarter_(United_States_coin)\n"
   ]
  },
  {
   "cell_type": "code",
   "execution_count": 63,
   "metadata": {
    "collapsed": true
   },
   "outputs": [],
   "source": [
    "condition = Condition(height = 381 * m,\n",
    "                      v_init = 0 * m / s,\n",
    "                      g = 9.8 * m/s**2,\n",
    "                      mass = 5.67e-3 * kg,\n",
    "                      diameter = 24.26e-3 * m,\n",
    "                      rho = 1.2 * kg/m**3,\n",
    "                      duration = 19.1 * s)"
   ]
  },
  {
   "cell_type": "markdown",
   "metadata": {},
   "source": [
    "And here's a modified version of `make_system`"
   ]
  },
  {
   "cell_type": "code",
   "execution_count": 64,
   "metadata": {
    "collapsed": true
   },
   "outputs": [],
   "source": [
    "def make_system(condition):\n",
    "    \"\"\"Makes a System object for the given conditions.\n",
    "    \n",
    "    condition: Condition with height, v_init, g, mass, diameter, \n",
    "               rho, C_d, and duration\n",
    "    \n",
    "    returns: System with init, g, mass, rho, C_d, area, and ts\n",
    "    \"\"\"\n",
    "    unpack(condition)\n",
    "    \n",
    "    init = State(y=height, v=v_init)\n",
    "    area = np.pi * (diameter/2)**2\n",
    "    ts = linspace(0, duration, 101)\n",
    "    \n",
    "    return System(init=init, g=g, mass=mass, rho=rho,\n",
    "                  C_d=C_d, area=area, ts=ts)"
   ]
  },
  {
   "cell_type": "markdown",
   "metadata": {},
   "source": [
    "We can run the simulation with an initial guess of `C_d=0.4`."
   ]
  },
  {
   "cell_type": "code",
   "execution_count": 65,
   "metadata": {},
   "outputs": [
    {
     "data": {
      "image/png": "[encoded data removed]",
      "text/plain": [
       "<matplotlib.figure.Figure at 0x204c41d98d0>"
      ]
     },
     "metadata": {},
     "output_type": "display_data"
    }
   ],
   "source": [
    "condition.set(C_d=0.4)\n",
    "system = make_system(condition)\n",
    "run_odeint(system, slope_func)\n",
    "plot_position(system.results)"
   ]
  },
  {
   "cell_type": "markdown",
   "metadata": {},
   "source": [
    "The final height is -11 meters, which means our guess was too low (we need more drag to slow the quarter down)."
   ]
  },
  {
   "cell_type": "code",
   "execution_count": 66,
   "metadata": {},
   "outputs": [
    {
     "data": {
      "text/plain": [
       "(<Quantity(-11.034779626277231, 'meter')>,\n",
       " <Quantity(-22.380158694375393, 'meter / second')>)"
      ]
     },
     "execution_count": 66,
     "metadata": {},
     "output_type": "execute_result"
    }
   ],
   "source": [
    "final_state(system.results)"
   ]
  },
  {
   "cell_type": "markdown",
   "metadata": {},
   "source": [
    "`height_func` takes a hypothetical value of `C_d` and returns the height after 19.1 seconds."
   ]
  },
  {
   "cell_type": "code",
   "execution_count": 67,
   "metadata": {
    "collapsed": true
   },
   "outputs": [],
   "source": [
    "def height_func(C_d, condition):\n",
    "    \"\"\"Final height as a function of C_d.\n",
    "    \n",
    "    C_d: drag coefficient\n",
    "    condition: Condition object\n",
    "    \n",
    "    returns: height in m\n",
    "    \"\"\"\n",
    "    condition.set(C_d=C_d)\n",
    "    system = make_system(condition)\n",
    "    run_odeint(system, slope_func)\n",
    "    y, v = final_state(system.results)\n",
    "    return y"
   ]
  },
  {
   "cell_type": "markdown",
   "metadata": {},
   "source": [
    "If we run it with `C_d=0.4`, we get -11 meters again."
   ]
  },
  {
   "cell_type": "code",
   "execution_count": 68,
   "metadata": {},
   "outputs": [
    {
     "data": {
      "text/html": [
       "-11.034779626277231 meter"
      ],
      "text/latex": [
       "$-11.034779626277231 meter$"
      ],
      "text/plain": [
       "<Quantity(-11.034779626277231, 'meter')>"
      ]
     },
     "execution_count": 68,
     "metadata": {},
     "output_type": "execute_result"
    }
   ],
   "source": [
    "height_func(0.4, condition)"
   ]
  },
  {
   "cell_type": "markdown",
   "metadata": {},
   "source": [
    "Now we can use `fsolve` to find the value of `C_d` that makes the final height 0."
   ]
  },
  {
   "cell_type": "code",
   "execution_count": 69,
   "metadata": {},
   "outputs": [
    {
     "data": {
      "text/plain": [
       "array([ 0.42587017])"
      ]
     },
     "execution_count": 69,
     "metadata": {},
     "output_type": "execute_result"
    }
   ],
   "source": [
    "solution = fsolve(height_func, 0.4, condition)\n",
    "solution"
   ]
  },
  {
   "cell_type": "markdown",
   "metadata": {},
   "source": [
    "Plugging in the estimated value, we can run the simulation again to get terminal velocity."
   ]
  },
  {
   "cell_type": "code",
   "execution_count": 70,
   "metadata": {},
   "outputs": [
    {
     "data": {
      "text/plain": [
       "(<Quantity(-4.725109192804666e-13, 'meter')>,\n",
       " <Quantity(-21.689751051700213, 'meter / second')>)"
      ]
     },
     "execution_count": 70,
     "metadata": {},
     "output_type": "execute_result"
    }
   ],
   "source": [
    "condition.set(C_d=solution)\n",
    "system = make_system(condition)\n",
    "run_odeint(system, slope_func)\n",
    "final_state(system.results)"
   ]
  },
  {
   "cell_type": "markdown",
   "metadata": {},
   "source": [
    "In this example, the terminal velocity of the quarter is higher than that of the penny, but we should not take this result seriously because the measurements we used are not real; I made them up."
   ]
  },
  {
   "cell_type": "code",
   "execution_count": null,
   "metadata": {
    "collapsed": true
   },
   "outputs": [],
   "source": []
  }
 ],
 "metadata": {
  "kernelspec": {
   "display_name": "Python 3",
   "language": "python",
   "name": "python3"
  },
  "language_info": {
   "codemirror_mode": {
    "name": "ipython",
    "version": 3
   },
   "file_extension": ".py",
   "mimetype": "text/x-python",
   "name": "python",
   "nbconvert_exporter": "python",
   "pygments_lexer": "ipython3",
   "version": "3.6.1"
  }
 },
 "nbformat": 4,
 "nbformat_minor": 1
}
